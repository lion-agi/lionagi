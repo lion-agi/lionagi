{
 "cells": [
  {
   "cell_type": "code",
   "execution_count": 1,
   "metadata": {},
   "outputs": [],
   "source": [
    "from lionagi import iModel, Branch\n",
    "\n",
    "# ollama\n",
    "mod1 = iModel(model=\"ollama/deepseek-r1:1.5b\")\n",
    "\n",
    "# openai\n",
    "mod2 = iModel(model=\"openai/gpt-4o-mini\")\n",
    "\n",
    "# openrouter\n",
    "mod3 = iModel(model=\"openrouter/anthropic/claude-3.7-sonnet\")\n",
    "\n",
    "# anthropic\n",
    "mod4 = iModel(model=\"anthropic/claude-3-7-sonnet-latest\", max_tokens=4096)\n",
    "\n",
    "models = {\n",
    "    \"ollama\": mod1,\n",
    "    \"openai\": mod2,\n",
    "    \"openrouter\": mod3,\n",
    "    \"anthropic\": mod4\n",
    "}"
   ]
  },
  {
   "cell_type": "code",
   "execution_count": null,
   "metadata": {},
   "outputs": [
    {
     "name": "stdout",
     "output_type": "stream",
     "text": [
      "\n",
      "\n",
      "ollama: <think>\n",
      "Alright, the user asked for a short dragon joke. I need to create something fun yet classic. Let's see... dragon jokes often involve challenges or tricks with words related to dragons.\n",
      "\n",
      "Hmm, maybe one involving their scales? That could be playful and not too complicated. How about scaling up their scales?\n",
      "\n",
      "Wait, \"Scale your scales\" is common. The punchline would be when they try it and fall through because they weigh more than the earth... Oh, wait, that's the Earth pun. Maybe I should change it.\n",
      "\n",
      "Let me think of another angle. Perhaps a joke involving their eating habits or actions. How about something with their tail? Like \"Eat your dragon meat\" but twisted.\n",
      "\n",
      "Maybe something like \"Why don't we go to the park to see them scale?\" That's simple and has a bit of humor. Then explain why it doesn't work, perhaps that their scales are too light for humans.\n",
      "\n",
      "That should make the joke funny without being too obscure.\n",
      "</think>\n",
      "\n",
      "Sure! Here's a fun short dragon joke:\n",
      "\n",
      "\"Why did the dragon say, 'Eat your dragon meat'? They said, \"Oh no! That food is tasteless!\"\"\n",
      "\n",
      "Could you explain it to me?\n",
      "\n",
      "\n",
      "openai: Why did the dragon eat the knight? \n",
      "\n",
      "Because he wanted to have a \"bite\" of adventure!\n",
      "\n",
      "\n",
      "openrouter: Why don't dragons like to play cards?\n",
      "\n",
      "Because they're afraid someone might be a cheat-ah and breathe fire if they lose!\n",
      "\n",
      "\n",
      "anthropic: Why don't dragons like to use computers?\n",
      "\n",
      "They're afraid of the mouse!\n"
     ]
    }
   ],
   "source": [
    "a = Branch(\n",
    "    system=\"you are a hilarious dragon hunter who responds in 10 words rhymes.\"\n",
    ")\n",
    "\n",
    "for provider, mod in models.items():\n",
    "    result = await a.chat(\n",
    "        \"Tell me a short dragon joke\",\n",
    "        chat_model=mod,   \n",
    "    )\n",
    "    print(f\"{provider}: {result}\")"
   ]
  }
 ],
 "metadata": {
  "kernelspec": {
   "display_name": ".venv",
   "language": "python",
   "name": "python3"
  },
  "language_info": {
   "codemirror_mode": {
    "name": "ipython",
    "version": 3
   },
   "file_extension": ".py",
   "mimetype": "text/x-python",
   "name": "python",
   "nbconvert_exporter": "python",
   "pygments_lexer": "ipython3",
   "version": "3.11.11"
  }
 },
 "nbformat": 4,
 "nbformat_minor": 2
}
